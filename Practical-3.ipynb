{
 "cells": [
  {
   "cell_type": "code",
   "execution_count": 13,
   "metadata": {},
   "outputs": [],
   "source": [
    "import spacy"
   ]
  },
  {
   "cell_type": "code",
   "execution_count": 14,
   "metadata": {},
   "outputs": [],
   "source": [
    "raw_text=\"\"\"NLP drives computer programs that translate text from one language to another, respond to spoken commands, \n",
    "and summarize large volumes of text rapidly—even in real time. There’s a good chance you’ve interacted with NLP in the \n",
    "form of voice-operated GPS systems, digital assistants, speech-to-text dictation software, customer service chatbots, \n",
    "and other consumer conveniences. But NLP also plays a growing role in enterprise solutions that help streamline business \n",
    "operations, increase employee productivity, and simplify mission-critical business processes. \"\"\""
   ]
  },
  {
   "cell_type": "code",
   "execution_count": 15,
   "metadata": {},
   "outputs": [],
   "source": [
    "NER = spacy.load(\"en_core_web_sm\", disable=[\"tok2vec\", \"tagger\", \"parser\", \"attribute_ruler\", \"lemmatizer\"])"
   ]
  },
  {
   "cell_type": "code",
   "execution_count": 16,
   "metadata": {},
   "outputs": [
    {
     "name": "stdout",
     "output_type": "stream",
     "text": [
      "NLP ORG\n",
      "one language TIME\n",
      "NLP ORG\n",
      "GPS ORG\n",
      "NLP ORG\n"
     ]
    }
   ],
   "source": [
    "text= NER(raw_text)\n",
    "for w in text.ents:\n",
    "    print(w.text,w.label_)"
   ]
  },
  {
   "cell_type": "code",
   "execution_count": 21,
   "metadata": {},
   "outputs": [
    {
     "data": {
      "text/html": [
       "<span class=\"tex2jax_ignore\"><div class=\"entities\" style=\"line-height: 2.5; direction: ltr\">\n",
       "<mark class=\"entity\" style=\"background: #7aecec; padding: 0.45em 0.6em; margin: 0 0.25em; line-height: 1; border-radius: 0.35em;\">\n",
       "    NLP\n",
       "    <span style=\"font-size: 0.8em; font-weight: bold; line-height: 1; border-radius: 0.35em; vertical-align: middle; margin-left: 0.5rem\">ORG</span>\n",
       "</mark>\n",
       " drives computer programs that translate text from \n",
       "<mark class=\"entity\" style=\"background: #bfe1d9; padding: 0.45em 0.6em; margin: 0 0.25em; line-height: 1; border-radius: 0.35em;\">\n",
       "    one language\n",
       "    <span style=\"font-size: 0.8em; font-weight: bold; line-height: 1; border-radius: 0.35em; vertical-align: middle; margin-left: 0.5rem\">TIME</span>\n",
       "</mark>\n",
       " to another, respond to spoken commands, <br>and summarize large volumes of text rapidly—even in real time. There’s a good chance you’ve interacted with \n",
       "<mark class=\"entity\" style=\"background: #7aecec; padding: 0.45em 0.6em; margin: 0 0.25em; line-height: 1; border-radius: 0.35em;\">\n",
       "    NLP\n",
       "    <span style=\"font-size: 0.8em; font-weight: bold; line-height: 1; border-radius: 0.35em; vertical-align: middle; margin-left: 0.5rem\">ORG</span>\n",
       "</mark>\n",
       " in the <br>form of voice-operated \n",
       "<mark class=\"entity\" style=\"background: #7aecec; padding: 0.45em 0.6em; margin: 0 0.25em; line-height: 1; border-radius: 0.35em;\">\n",
       "    GPS\n",
       "    <span style=\"font-size: 0.8em; font-weight: bold; line-height: 1; border-radius: 0.35em; vertical-align: middle; margin-left: 0.5rem\">ORG</span>\n",
       "</mark>\n",
       " systems, digital assistants, speech-to-text dictation software, customer service chatbots, <br>and other consumer conveniences. But \n",
       "<mark class=\"entity\" style=\"background: #7aecec; padding: 0.45em 0.6em; margin: 0 0.25em; line-height: 1; border-radius: 0.35em;\">\n",
       "    NLP\n",
       "    <span style=\"font-size: 0.8em; font-weight: bold; line-height: 1; border-radius: 0.35em; vertical-align: middle; margin-left: 0.5rem\">ORG</span>\n",
       "</mark>\n",
       " also plays a growing role in enterprise solutions that help streamline business <br>operations, increase employee productivity, and simplify mission-critical business processes. </div></span>"
      ],
      "text/plain": [
       "<IPython.core.display.HTML object>"
      ]
     },
     "metadata": {},
     "output_type": "display_data"
    }
   ],
   "source": [
    "spacy.displacy.render(text, style=\"ent\",jupyter=True)"
   ]
  },
  {
   "cell_type": "code",
   "execution_count": 17,
   "metadata": {},
   "outputs": [],
   "source": [
    "import nltk\n",
    "from nltk.tokenize import word_tokenize\n",
    "from nltk.tag import pos_tag"
   ]
  },
  {
   "cell_type": "code",
   "execution_count": 9,
   "metadata": {},
   "outputs": [
    {
     "name": "stderr",
     "output_type": "stream",
     "text": [
      "[nltk_data] Downloading package treebank to\n",
      "[nltk_data]     C:\\Users\\dell\\AppData\\Roaming\\nltk_data...\n",
      "[nltk_data]   Package treebank is already up-to-date!\n",
      "[nltk_data] Downloading package maxent_ne_chunker to\n",
      "[nltk_data]     C:\\Users\\dell\\AppData\\Roaming\\nltk_data...\n",
      "[nltk_data]   Unzipping chunkers\\maxent_ne_chunker.zip.\n"
     ]
    },
    {
     "name": "stdout",
     "output_type": "stream",
     "text": [
      "(S\n",
      "  (PERSON Pierre/NNP)\n",
      "  (ORGANIZATION Vinken/NNP)\n",
      "  ,/,\n",
      "  61/CD\n",
      "  years/NNS\n",
      "  old/JJ\n",
      "  ,/,\n",
      "  will/MD\n",
      "  join/VB\n",
      "  the/DT\n",
      "  board/NN\n",
      "  as/IN\n",
      "  a/DT\n",
      "  nonexecutive/JJ\n",
      "  director/NN\n",
      "  Nov./NNP\n",
      "  29/CD\n",
      "  ./.)\n"
     ]
    }
   ],
   "source": [
    "nltk.download('treebank')\n",
    "nltk.download('maxent_ne_chunker')\n",
    "\n",
    "sent = nltk.corpus.treebank.tagged_sents()\n",
    "print(nltk.ne_chunk(sent[0]))"
   ]
  },
  {
   "cell_type": "code",
   "execution_count": 18,
   "metadata": {},
   "outputs": [
    {
     "name": "stderr",
     "output_type": "stream",
     "text": [
      "[nltk_data] Downloading package punkt to\n",
      "[nltk_data]     C:\\Users\\dell\\AppData\\Roaming\\nltk_data...\n",
      "[nltk_data]   Package punkt is already up-to-date!\n",
      "[nltk_data] Downloading package averaged_perceptron_tagger to\n",
      "[nltk_data]     C:\\Users\\dell\\AppData\\Roaming\\nltk_data...\n",
      "[nltk_data]   Package averaged_perceptron_tagger is already up-to-\n",
      "[nltk_data]       date!\n"
     ]
    }
   ],
   "source": [
    "nltk.download('punkt')\n",
    "nltk.download('averaged_perceptron_tagger')\n",
    "raw_words= word_tokenize(raw_text)\n",
    "tags=pos_tag(raw_words)"
   ]
  },
  {
   "cell_type": "code",
   "execution_count": 19,
   "metadata": {},
   "outputs": [
    {
     "name": "stdout",
     "output_type": "stream",
     "text": [
      "(S\n",
      "  (NE NLP/NNP)\n",
      "  drives/VBZ\n",
      "  computer/NN\n",
      "  programs/NNS\n",
      "  that/WDT\n",
      "  translate/VBP\n",
      "  text/NN\n",
      "  from/IN\n",
      "  one/CD\n",
      "  language/NN\n",
      "  to/TO\n",
      "  another/DT\n",
      "  ,/,\n",
      "  respond/NN\n",
      "  to/TO\n",
      "  spoken/VB\n",
      "  commands/NNS\n",
      "  ,/,\n",
      "  and/CC\n",
      "  summarize/VB\n",
      "  large/JJ\n",
      "  volumes/NNS\n",
      "  of/IN\n",
      "  text/NN\n",
      "  rapidly—even/NN\n",
      "  in/IN\n",
      "  real/JJ\n",
      "  time/NN\n",
      "  ./.\n",
      "  There/EX\n",
      "  ’/JJ\n",
      "  s/NN\n",
      "  a/DT\n",
      "  good/JJ\n",
      "  chance/NN\n",
      "  you/PRP\n",
      "  ’/VBP\n",
      "  ve/NNS\n",
      "  interacted/VBN\n",
      "  with/IN\n",
      "  (NE NLP/NNP)\n",
      "  in/IN\n",
      "  the/DT\n",
      "  form/NN\n",
      "  of/IN\n",
      "  voice-operated/JJ\n",
      "  GPS/NNP\n",
      "  systems/NNS\n",
      "  ,/,\n",
      "  digital/JJ\n",
      "  assistants/NNS\n",
      "  ,/,\n",
      "  speech-to-text/JJ\n",
      "  dictation/NN\n",
      "  software/NN\n",
      "  ,/,\n",
      "  customer/NN\n",
      "  service/NN\n",
      "  chatbots/NNS\n",
      "  ,/,\n",
      "  and/CC\n",
      "  other/JJ\n",
      "  consumer/NN\n",
      "  conveniences/NNS\n",
      "  ./.\n",
      "  But/CC\n",
      "  (NE NLP/NNP)\n",
      "  also/RB\n",
      "  plays/VBZ\n",
      "  a/DT\n",
      "  growing/VBG\n",
      "  role/NN\n",
      "  in/IN\n",
      "  enterprise/JJ\n",
      "  solutions/NNS\n",
      "  that/WDT\n",
      "  help/VBP\n",
      "  streamline/VB\n",
      "  business/NN\n",
      "  operations/NNS\n",
      "  ,/,\n",
      "  increase/NN\n",
      "  employee/NN\n",
      "  productivity/NN\n",
      "  ,/,\n",
      "  and/CC\n",
      "  simplify/VB\n",
      "  mission-critical/JJ\n",
      "  business/NN\n",
      "  processes/NNS\n",
      "  ./.)\n"
     ]
    },
    {
     "name": "stderr",
     "output_type": "stream",
     "text": [
      "[nltk_data] Downloading package maxent_ne_chunker to\n",
      "[nltk_data]     C:\\Users\\dell\\AppData\\Roaming\\nltk_data...\n",
      "[nltk_data]   Package maxent_ne_chunker is already up-to-date!\n",
      "[nltk_data] Downloading package words to\n",
      "[nltk_data]     C:\\Users\\dell\\AppData\\Roaming\\nltk_data...\n",
      "[nltk_data]   Package words is already up-to-date!\n"
     ]
    }
   ],
   "source": [
    "nltk.download('maxent_ne_chunker')\n",
    "nltk.download('words')\n",
    "ne = nltk.ne_chunk(tags,binary=True)\n",
    "print(ne)"
   ]
  },
  {
   "cell_type": "code",
   "execution_count": 20,
   "metadata": {},
   "outputs": [
    {
     "data": {
      "text/plain": [
       "[('NLP', 'NNP', 'B-NE'),\n",
       " ('drives', 'VBZ', 'O'),\n",
       " ('computer', 'NN', 'O'),\n",
       " ('programs', 'NNS', 'O'),\n",
       " ('that', 'WDT', 'O'),\n",
       " ('translate', 'VBP', 'O'),\n",
       " ('text', 'NN', 'O'),\n",
       " ('from', 'IN', 'O'),\n",
       " ('one', 'CD', 'O'),\n",
       " ('language', 'NN', 'O'),\n",
       " ('to', 'TO', 'O'),\n",
       " ('another', 'DT', 'O'),\n",
       " (',', ',', 'O'),\n",
       " ('respond', 'NN', 'O'),\n",
       " ('to', 'TO', 'O'),\n",
       " ('spoken', 'VB', 'O'),\n",
       " ('commands', 'NNS', 'O'),\n",
       " (',', ',', 'O'),\n",
       " ('and', 'CC', 'O'),\n",
       " ('summarize', 'VB', 'O'),\n",
       " ('large', 'JJ', 'O'),\n",
       " ('volumes', 'NNS', 'O'),\n",
       " ('of', 'IN', 'O'),\n",
       " ('text', 'NN', 'O'),\n",
       " ('rapidly—even', 'NN', 'O'),\n",
       " ('in', 'IN', 'O'),\n",
       " ('real', 'JJ', 'O'),\n",
       " ('time', 'NN', 'O'),\n",
       " ('.', '.', 'O'),\n",
       " ('There', 'EX', 'O'),\n",
       " ('’', 'JJ', 'O'),\n",
       " ('s', 'NN', 'O'),\n",
       " ('a', 'DT', 'O'),\n",
       " ('good', 'JJ', 'O'),\n",
       " ('chance', 'NN', 'O'),\n",
       " ('you', 'PRP', 'O'),\n",
       " ('’', 'VBP', 'O'),\n",
       " ('ve', 'NNS', 'O'),\n",
       " ('interacted', 'VBN', 'O'),\n",
       " ('with', 'IN', 'O'),\n",
       " ('NLP', 'NNP', 'B-NE'),\n",
       " ('in', 'IN', 'O'),\n",
       " ('the', 'DT', 'O'),\n",
       " ('form', 'NN', 'O'),\n",
       " ('of', 'IN', 'O'),\n",
       " ('voice-operated', 'JJ', 'O'),\n",
       " ('GPS', 'NNP', 'O'),\n",
       " ('systems', 'NNS', 'O'),\n",
       " (',', ',', 'O'),\n",
       " ('digital', 'JJ', 'O'),\n",
       " ('assistants', 'NNS', 'O'),\n",
       " (',', ',', 'O'),\n",
       " ('speech-to-text', 'JJ', 'O'),\n",
       " ('dictation', 'NN', 'O'),\n",
       " ('software', 'NN', 'O'),\n",
       " (',', ',', 'O'),\n",
       " ('customer', 'NN', 'O'),\n",
       " ('service', 'NN', 'O'),\n",
       " ('chatbots', 'NNS', 'O'),\n",
       " (',', ',', 'O'),\n",
       " ('and', 'CC', 'O'),\n",
       " ('other', 'JJ', 'O'),\n",
       " ('consumer', 'NN', 'O'),\n",
       " ('conveniences', 'NNS', 'O'),\n",
       " ('.', '.', 'O'),\n",
       " ('But', 'CC', 'O'),\n",
       " ('NLP', 'NNP', 'B-NE'),\n",
       " ('also', 'RB', 'O'),\n",
       " ('plays', 'VBZ', 'O'),\n",
       " ('a', 'DT', 'O'),\n",
       " ('growing', 'VBG', 'O'),\n",
       " ('role', 'NN', 'O'),\n",
       " ('in', 'IN', 'O'),\n",
       " ('enterprise', 'JJ', 'O'),\n",
       " ('solutions', 'NNS', 'O'),\n",
       " ('that', 'WDT', 'O'),\n",
       " ('help', 'VBP', 'O'),\n",
       " ('streamline', 'VB', 'O'),\n",
       " ('business', 'NN', 'O'),\n",
       " ('operations', 'NNS', 'O'),\n",
       " (',', ',', 'O'),\n",
       " ('increase', 'NN', 'O'),\n",
       " ('employee', 'NN', 'O'),\n",
       " ('productivity', 'NN', 'O'),\n",
       " (',', ',', 'O'),\n",
       " ('and', 'CC', 'O'),\n",
       " ('simplify', 'VB', 'O'),\n",
       " ('mission-critical', 'JJ', 'O'),\n",
       " ('business', 'NN', 'O'),\n",
       " ('processes', 'NNS', 'O'),\n",
       " ('.', '.', 'O')]"
      ]
     },
     "execution_count": 20,
     "metadata": {},
     "output_type": "execute_result"
    }
   ],
   "source": [
    "from nltk.chunk import tree2conlltags\n",
    "iob = tree2conlltags(ne)\n",
    "iob\n"
   ]
  }
 ],
 "metadata": {
  "kernelspec": {
   "display_name": "Python 3",
   "language": "python",
   "name": "python3"
  },
  "language_info": {
   "codemirror_mode": {
    "name": "ipython",
    "version": 3
   },
   "file_extension": ".py",
   "mimetype": "text/x-python",
   "name": "python",
   "nbconvert_exporter": "python",
   "pygments_lexer": "ipython3",
   "version": "3.10.7"
  }
 },
 "nbformat": 4,
 "nbformat_minor": 2
}
